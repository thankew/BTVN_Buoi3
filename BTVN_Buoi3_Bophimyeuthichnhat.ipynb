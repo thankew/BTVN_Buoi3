{
 "cells": [
  {
   "cell_type": "code",
   "execution_count": null,
   "id": "7b8d79ad",
   "metadata": {},
   "outputs": [],
   "source": [
    "The Shawshank Redemption – Nhà tù Shawshank (1994)\n",
    "The Godfather – Bố già (1972)\n",
    "The Dark Knight – Hiệp Sĩ Bóng Đêm (2008)\n",
    "The Good, The Bad And The Ugly – Người Tốt, Kẻ Xấu Và Tên Vô Lại (1966)\n",
    "Titanic – Chuyến Tàu Định Mệnh (1997)\n",
    "Avatar – Thế thân (2009)\n",
    "Lion King – Vua sư tử (1994)\n",
    "Black widow - 2021\n",
    "Salt "
   ]
  }
 ],
 "metadata": {
  "kernelspec": {
   "display_name": "Python 3",
   "language": "python",
   "name": "python3"
  },
  "language_info": {
   "codemirror_mode": {
    "name": "ipython",
    "version": 3
   },
   "file_extension": ".py",
   "mimetype": "text/x-python",
   "name": "python",
   "nbconvert_exporter": "python",
   "pygments_lexer": "ipython3",
   "version": "3.8.8"
  }
 },
 "nbformat": 4,
 "nbformat_minor": 5
}
