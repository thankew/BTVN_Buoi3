{
 "cells": [
  {
   "cell_type": "code",
   "execution_count": null,
   "id": "9d716bb2",
   "metadata": {},
   "outputs": [],
   "source": [
    "Đắc nhân tâm. ...\n",
    "Cách nghĩ để thành công. ...\n",
    "7 thói quen của người thành đạt. ...\n",
    "Cuộc sống không giới hạn. ...\n",
    "Hành trình về Phương Đông. ...\n",
    "Người giàu có nhất thành Babylon. ...\n",
    "Quẳng gánh lo đi mà vui sống. ...\n",
    "Bộ sách – Hạt giống tâm hồn.\n",
    "Nhà giả kim\n",
    "Đàn ông đến từ sao hỏa, đàn bà đến từ sao kim"
   ]
  }
 ],
 "metadata": {
  "kernelspec": {
   "display_name": "Python 3",
   "language": "python",
   "name": "python3"
  },
  "language_info": {
   "codemirror_mode": {
    "name": "ipython",
    "version": 3
   },
   "file_extension": ".py",
   "mimetype": "text/x-python",
   "name": "python",
   "nbconvert_exporter": "python",
   "pygments_lexer": "ipython3",
   "version": "3.8.8"
  }
 },
 "nbformat": 4,
 "nbformat_minor": 5
}
