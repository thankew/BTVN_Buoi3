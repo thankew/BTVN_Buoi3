{
 "cells": [
  {
   "cell_type": "code",
   "execution_count": null,
   "id": "6d153310",
   "metadata": {},
   "outputs": [],
   "source": [
    "1. Vùng Lá Me Bay - Như Quỳnh\n",
    "2. Lại Nhớ Người Yêu - Lưu Ánh Loan, Đoàn Minh\n",
    "3. Bội Bạc - Dương Hồng Loan\n",
    "4. Đắp Mộ Cuộc Tình - Lê Sang\n",
    "5. Con Đường Xưa Em Đi - Lưu Ánh Loan, Lê Sang\n",
    "6. Cát Bụi Cuộc Đời - Trường Sơn\n",
    "7. Nỗi Buồn Mẹ Tôi - Phương Mỹ Chi, Thùy Dương\n",
    "8. Xuân Này Con Về Mẹ Ở Đâu - Khưu Huy Vũ\n",
    "9. Hai Chuyến Tàu Đêm - Quang Lê\n",
    "10. Cô Hàng Xóm - Duy Khánh"
   ]
  }
 ],
 "metadata": {
  "kernelspec": {
   "display_name": "Python 3",
   "language": "python",
   "name": "python3"
  },
  "language_info": {
   "codemirror_mode": {
    "name": "ipython",
    "version": 3
   },
   "file_extension": ".py",
   "mimetype": "text/x-python",
   "name": "python",
   "nbconvert_exporter": "python",
   "pygments_lexer": "ipython3",
   "version": "3.8.8"
  }
 },
 "nbformat": 4,
 "nbformat_minor": 5
}
